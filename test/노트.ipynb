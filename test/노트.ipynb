{
 "cells": [
  {
   "cell_type": "code",
   "execution_count": null,
   "metadata": {},
   "outputs": [],
   "source": [
    "'''\n",
    "exchange.fetch_ohlcv 메서드는 OHLCV 데이터를 불러오는 데 사용되며, 다음과 같은 인자들을 받습니다:\n",
    "\n",
    "symbol: 문자열. 거래 쌍을 나타냅니다. 예를 들어, 'BTC/USDT'는 BTC를 USDT로 거래하는 시장을 나타냅니다.\n",
    "timeframe: 문자열. 봉의 시간 간격을 나타냅니다. '1m'은 1분봉을, '1h'는 1시간봉을, '1d'는 일봉을 의미합니다.\n",
    "\n",
    "since: 정수 또는 None. 데이터를 불러올 시작 시간을 나타냅니다. 이 값은 유닉스 타임스탬프(1970년 1월 1일 00:00:00 UTC부터 경과한 밀리초 수)로 표현됩니다.\n",
    "        None을 지정하면 가능한 한 최근의 데이터부터 불러옵니다.\n",
    "\n",
    "limit: 정수 또는 None. 불러올 데이터의 개수를 나타냅니다. None을 지정하면 거래소의 기본값(일반적으로 500)이 사용됩니다.\n",
    "\n",
    "params: 딕셔너리. 거래소의 API에 추가적으로 전달할 파라미터를 지정합니다. 이 인자는 선택적입니다.\n",
    "\n",
    "예를 들어, exchange.fetch_ohlcv('BTC/USDT', '1m', limit=100)는 BTC/USDT 시장의 최근 100개의 1분봉 데이터를 불러옵니다.\n",
    "'''"
   ]
  }
 ],
 "metadata": {
  "kernelspec": {
   "display_name": "Python 3",
   "language": "python",
   "name": "python3"
  },
  "language_info": {
   "name": "python",
   "version": "3.10.11"
  }
 },
 "nbformat": 4,
 "nbformat_minor": 2
}
