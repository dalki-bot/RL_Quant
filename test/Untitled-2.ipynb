{
 "cells": [
  {
   "cell_type": "code",
   "execution_count": 11,
   "metadata": {},
   "outputs": [],
   "source": [
    "import pandas as pd\n",
    "import numpy as np\n",
    "import requests\n",
    "import time\n",
    "import datetime\n",
    "import pytz\n",
    "import ccxt\n",
    "\n",
    "exchange = ccxt.binance({\n",
    "    'apiKey': 'txuapw1jXplRdwUiLDIFYNMlSCo4WHDklahUjGsHESYQMUKhg7WC80EW6L3newBL',\n",
    "    'secret': 'siFn8qN0z56V4iNWfCnwydWOGEAdwa75FLEqNTVeSduF7XSNG2IfhusdRN83YP50',\n",
    "    'options': {\n",
    "        'defaultType': 'future'\n",
    "    }\n",
    "})"
   ]
  },
  {
   "cell_type": "code",
   "execution_count": 3,
   "metadata": {},
   "outputs": [],
   "source": [
    "df = pd.read_parquet(r'C:\\Users\\user\\Desktop\\123244\\testdata.parquet')\n",
    "df.to_parquet(r'C:\\Users\\user\\Desktop\\123244\\testdata.parquet')"
   ]
  },
  {
   "cell_type": "code",
   "execution_count": 5,
   "metadata": {},
   "outputs": [],
   "source": [
    "import numpy as np\n",
    "\n",
    "df['Close'] = np.log(df['Close'])\n",
    "df['Volume'] = np.log(df['Volume'])\n"
   ]
  },
  {
   "cell_type": "code",
   "execution_count": null,
   "metadata": {},
   "outputs": [],
   "source": [
    "import time\n",
    "import threading\n",
    "\n",
    "def track_time():\n",
    "    while True:\n",
    "        print(time.ctime())\n",
    "        time.sleep(1)\n",
    "\n",
    "# 별도의 스레드에서 시간 추적 함수를 실행합니다.\n",
    "threading.Thread(target=track_time).start()"
   ]
  },
  {
   "cell_type": "code",
   "execution_count": 71,
   "metadata": {},
   "outputs": [],
   "source": [
    "# 바이낸스 API URL\n",
    "url = \"https://api.binance.com/api/v3/time\"\n",
    "\n",
    "# API를 호출합니다.\n",
    "response = requests.get(url)\n",
    "\n",
    "# 응답을 JSON으로 변환합니다.\n",
    "data = response.json()\n",
    "\n"
   ]
  },
  {
   "cell_type": "code",
   "execution_count": 133,
   "metadata": {},
   "outputs": [
    {
     "data": {
      "text/plain": [
       "1710833738.3491335"
      ]
     },
     "execution_count": 133,
     "metadata": {},
     "output_type": "execute_result"
    }
   ],
   "source": [
    "time.time()"
   ]
  },
  {
   "cell_type": "code",
   "execution_count": 279,
   "metadata": {},
   "outputs": [
    {
     "data": {
      "text/plain": [
       "0"
      ]
     },
     "execution_count": 279,
     "metadata": {},
     "output_type": "execute_result"
    }
   ],
   "source": [
    "datetime.datetime.fromtimestamp(time.time()).second\n"
   ]
  },
  {
   "cell_type": "code",
   "execution_count": 37,
   "metadata": {},
   "outputs": [],
   "source": [
    "start_proc = time.process_time()\n",
    "# 어떤 작업 수행\n",
    "time.sleep(1)\n",
    "# process_time 종료\n",
    "end_proc = time.process_time()"
   ]
  },
  {
   "cell_type": "code",
   "execution_count": 38,
   "metadata": {},
   "outputs": [
    {
     "data": {
      "text/plain": [
       "(0.984375, 0.984375)"
      ]
     },
     "execution_count": 38,
     "metadata": {},
     "output_type": "execute_result"
    }
   ],
   "source": [
    "start_proc, end_proc"
   ]
  },
  {
   "cell_type": "code",
   "execution_count": 35,
   "metadata": {},
   "outputs": [],
   "source": [
    "start_perf = time.perf_counter()\n",
    "# 어떤 작업 수행\n",
    "time.sleep(1)\n",
    "# perf_counter 종료\n",
    "end_perf = time.perf_counter()"
   ]
  },
  {
   "cell_type": "code",
   "execution_count": 70,
   "metadata": {},
   "outputs": [
    {
     "name": "stdout",
     "output_type": "stream",
     "text": [
      "2024-03-19 05:34:37.445295 2024-03-19 14:35:25.046000\n"
     ]
    }
   ],
   "source": [
    "server_time = exchange.fetch_time()\n",
    "local_time = time.time()\n",
    "server_time = datetime.datetime.fromtimestamp(server_time / 1000)\n",
    "local_time = datetime.datetime.fromtimestamp(local_time / 1000)\n",
    "print(utc_time, server_time)"
   ]
  },
  {
   "cell_type": "code",
   "execution_count": 66,
   "metadata": {},
   "outputs": [
    {
     "name": "stdout",
     "output_type": "stream",
     "text": [
      "Communication time: 0.03922271728515625 seconds\n"
     ]
    }
   ],
   "source": [
    "# 요청 전의 시간을 측정합니다.\n",
    "start_time = time.time()\n",
    "\n",
    "# 서버 시간을 가져옵니다.\n",
    "server_time = exchange.fetch_time()\n",
    "\n",
    "# 요청 후의 시간을 측정합니다.\n",
    "end_time = time.time()\n",
    "\n",
    "# 두 시간의 차이를 계산하여 통신 시간을 얻습니다.\n",
    "communication_time = end_time - start_time\n",
    "\n",
    "print(f\"Communication time: {communication_time} seconds\")"
   ]
  },
  {
   "cell_type": "code",
   "execution_count": 75,
   "metadata": {},
   "outputs": [
    {
     "data": {
      "text/plain": [
       "1710831226.347964"
      ]
     },
     "execution_count": 75,
     "metadata": {},
     "output_type": "execute_result"
    }
   ],
   "source": [
    "time.time()"
   ]
  },
  {
   "cell_type": "code",
   "execution_count": 3,
   "metadata": {},
   "outputs": [
    {
     "name": "stdout",
     "output_type": "stream",
     "text": [
      "68166.7\n",
      "68135.7\n"
     ]
    }
   ],
   "source": [
    "while True:\n",
    "    # 서버 시간을 가져옵니다.\n",
    "    server_time = exchange.fetch_time()\n",
    "    server_time = datetime.datetime.fromtimestamp(server_time / 1000)\n",
    "\n",
    "    # 서버 시간이 분의 시작 (00초)일 때 가격을 가져옵니다.\n",
    "    if server_time.second == 0:\n",
    "        ohlcv = exchange.fetch_ohlcv('BTC/USDT', '1m', limit=2)\n",
    "        one_minute_ago_price = ohlcv[0][1]  # 1분 전의 시가\n",
    "        print(one_minute_ago_price)\n",
    "\n",
    "    # 다음 분의 시작까지 대기합니다.\n",
    "    sleep_time = 60 - server_time.second - server_time.microsecond / 1000000.0\n",
    "    time.sleep(sleep_time)\n",
    "\n",
    "    # 다시 서버 시간을 가져와 동기화합니다.\n",
    "    server_time = exchange.fetch_time()\n",
    "    server_time = datetime.datetime.fromtimestamp(server_time / 1000)"
   ]
  },
  {
   "cell_type": "code",
   "execution_count": 8,
   "metadata": {},
   "outputs": [
    {
     "data": {
      "text/plain": [
       "datetime.datetime(2024, 3, 19, 9, 24, 29, 801910, tzinfo=<DstTzInfo 'Asia/Seoul' KST+9:00:00 STD>)"
      ]
     },
     "execution_count": 8,
     "metadata": {},
     "output_type": "execute_result"
    }
   ],
   "source": [
    "datetime.datetime.now(pytz.timezone('Asia/Seoul'))"
   ]
  },
  {
   "cell_type": "code",
   "execution_count": 8,
   "metadata": {},
   "outputs": [
    {
     "name": "stdout",
     "output_type": "stream",
     "text": [
      "2024-03-18 15:40:16.246831\n",
      "[1710743940000, 68488.6, 68488.6, 68455.6, 68458.4, 54.938]\n",
      "2024-03-18 15:41:00.010670\n",
      "[1710744000000, 68458.4, 68483.6, 68450.1, 68467.1, 61.255]\n",
      "2024-03-18 15:42:00.190972\n",
      "[1710744060000, 68467.1, 68492.7, 68467.1, 68492.7, 45.146]\n",
      "2024-03-18 15:43:00.210936\n"
     ]
    }
   ],
   "source": [
    "while True:\n",
    "    # 현재 시간을 가져옵니다.\n",
    "    current_time = datetime.datetime.now()\n",
    "\n",
    "    # 현재 시간이 분의 시작 (00초)일 때 가격을 가져옵니다.\n",
    "    if current_time.second == 0:\n",
    "        ohlcv = exchange.fetch_ohlcv('BTC/USDT', '1m', limit=2)\n",
    "        one_minute_ago_price = ohlcv[0]  # 1분 전의 시가\n",
    "        print(one_minute_ago_price)\n",
    "\n",
    "    # 다음 분의 시작까지 대기합니다.\n",
    "    print(current_time)\n",
    "    sleep_time = 60 - current_time.second - current_time.microsecond / 1000000.0\n",
    "    time.sleep(sleep_time)"
   ]
  },
  {
   "cell_type": "code",
   "execution_count": 4,
   "metadata": {},
   "outputs": [
    {
     "name": "stdout",
     "output_type": "stream",
     "text": [
      "            timestamp     open     high      low    close  volume\n",
      "0 2024-03-18 06:39:00  68488.6  68488.6  68474.7  68474.8    18.6\n"
     ]
    }
   ],
   "source": [
    "# BTC/USDT 시장의 최신 거래 정보를 가져옵니다.\n",
    "ohlcv = exchange.fetch_ohlcv('BTC/USDT', '1m', limit=1)\n",
    "\n",
    "# OHLCV 데이터를 pandas DataFrame으로 변환합니다.\n",
    "df = pd.DataFrame(ohlcv, columns=['timestamp', 'open', 'high', 'low', 'close', 'volume'])\n",
    "\n",
    "# timestamp를 datetime 형태로 변환합니다.\n",
    "df['timestamp'] = pd.to_datetime(df['timestamp'], unit='ms')\n",
    "\n",
    "# DataFrame을 출력합니다.\n",
    "print(df)\n",
    "\n"
   ]
  },
  {
   "cell_type": "code",
   "execution_count": 7,
   "metadata": {},
   "outputs": [
    {
     "data": {
      "text/plain": [
       "68488.6"
      ]
     },
     "execution_count": 7,
     "metadata": {},
     "output_type": "execute_result"
    }
   ],
   "source": [
    "ohlcv[0][1]"
   ]
  },
  {
   "cell_type": "code",
   "execution_count": 67,
   "metadata": {},
   "outputs": [
    {
     "data": {
      "text/plain": [
       "[1710742260000,\n",
       " 2.410292313420756,\n",
       " 2.41033230861482,\n",
       " 2.41025086000648,\n",
       " 2.41025086000648,\n",
       " 83.828]"
      ]
     },
     "execution_count": 67,
     "metadata": {},
     "output_type": "execute_result"
    }
   ],
   "source": [
    "ohlcv[1:5] = np.log(ohlcv[1:5])\n"
   ]
  },
  {
   "cell_type": "code",
   "execution_count": 40,
   "metadata": {},
   "outputs": [
    {
     "name": "stdout",
     "output_type": "stream",
     "text": [
      "2024-03-18 15:04:50.279000+09:00\n"
     ]
    }
   ],
   "source": [
    "# Binance 거래소를 사용합니다.\n",
    "exchange = ccxt.binance({\n",
    "    'apiKey': 'txuapw1jXplRdwUiLDIFYNMlSCo4WHDklahUjGsHESYQMUKhg7WC80EW6L3newBL',\n",
    "    'secret': 'siFn8qN0z56V4iNWfCnwydWOGEAdwa75FLEqNTVeSduF7XSNG2IfhusdRN83YP50',\n",
    "    'options': {\n",
    "        'defaultType': 'future'\n",
    "    }\n",
    "})\n",
    "\n",
    "# 거래소의 서버 시간을 가져옵니다.\n",
    "server_time = exchange.fetch_time()\n",
    "\n",
    "# 서버 시간을 datetime 객체로 변환합니다.\n",
    "server_time = datetime.datetime.fromtimestamp(server_time / 1000)\n",
    "\n",
    "# 서버 시간을 한국 시간으로 변환합니다.\n",
    "korea_time = server_time.astimezone(pytz.timezone('Asia/Seoul'))\n",
    "\n",
    "# 한국 시간을 출력합니다.\n",
    "print(korea_time)"
   ]
  },
  {
   "cell_type": "code",
   "execution_count": 313,
   "metadata": {},
   "outputs": [
    {
     "name": "stdout",
     "output_type": "stream",
     "text": [
      "[['2024-03-19 17:31:00', 63610.5, 63757.2, 63525.6, 63742.1, 1317.746], ['2024-03-19 17:32:00', 63742.0, 63852.8, 63719.5, 63841.3, 178.721]]\n"
     ]
    }
   ],
   "source": [
    "ohlcv = exchange.fetch_ohlcv('BTC/USDT', '1m', limit=2)\n",
    "ohlcv[0][0] = datetime.datetime.fromtimestamp(ohlcv[0][0] / 1000)\n",
    "ohlcv[1][0] = datetime.datetime.fromtimestamp(ohlcv[1][0] / 1000)\n",
    "ohlcv[0][0] = ohlcv[0][0].strftime(\"%Y-%m-%d %H:%M:%S\")\n",
    "ohlcv[1][0] = ohlcv[1][0].strftime(\"%Y-%m-%d %H:%M:%S\")\n",
    "price = ohlcv  # 1분 전의 시가\n",
    "print(price)"
   ]
  }
 ],
 "metadata": {
  "kernelspec": {
   "display_name": "Python 3",
   "language": "python",
   "name": "python3"
  },
  "language_info": {
   "codemirror_mode": {
    "name": "ipython",
    "version": 3
   },
   "file_extension": ".py",
   "mimetype": "text/x-python",
   "name": "python",
   "nbconvert_exporter": "python",
   "pygments_lexer": "ipython3",
   "version": "3.10.11"
  }
 },
 "nbformat": 4,
 "nbformat_minor": 2
}
